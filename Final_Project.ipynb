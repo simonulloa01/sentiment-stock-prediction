{
 "cells": [
  {
   "cell_type": "code",
   "execution_count": 5,
   "id": "db41e52e-d5b7-4527-9e56-b590ec29ae61",
   "metadata": {},
   "outputs": [
    {
     "name": "stdout",
     "output_type": "stream",
     "text": [
      "        Date      Open      High       Low     Close  Adj Close      Volume\n",
      "0 2017-09-01  0.000305  0.004878  0.005732 -0.002256   0.050003  16552800.0\n",
      "1 2017-08-31  0.003979  0.001775  0.007163  0.000796   0.649994  26785100.0\n",
      "2 2017-08-30  0.002701  0.005463  0.006016 -0.001842   0.440002  27269600.0\n",
      "3 2017-08-29  0.008918 -0.008485  0.010219 -0.009104   1.440003  29516900.0\n",
      "4 2017-08-28  0.010071  0.001752  0.013387  0.000438   1.610000  25966000.0\n"
     ]
    }
   ],
   "source": [
    "import pandas as pd\n",
    "import glob\n",
    "import os\n",
    "\n",
    "# Set your folder path\n",
    "folder_path = 'C:/Users/Owner/Desktop/Machine Learning/stock_data'  # change this to your actual path\n",
    "\n",
    "# Get all .txt files in the folder\n",
    "file_list = glob.glob(os.path.join(folder_path, '*.txt'))\n",
    "\n",
    "# Read and concatenate all files\n",
    "df_list = []\n",
    "for file in file_list:\n",
    "    df = pd.read_csv(file, sep='\\t', header=None)\n",
    "    df_list.append(df)\n",
    "\n",
    "# Combine into a single DataFrame\n",
    "combined_df = pd.concat(df_list, ignore_index=True)\n",
    "\n",
    "# Optionally, assign column names\n",
    "combined_df.columns = [\n",
    "    'Date', 'Open', 'High', 'Low', 'Close', 'Adj Close', 'Volume'\n",
    "]\n",
    "\n",
    "# Convert date column to datetime\n",
    "combined_df['Date'] = pd.to_datetime(combined_df['Date'])\n",
    "\n",
    "# Preview the result\n",
    "print(combined_df.head())\n"
   ]
  }
 ],
 "metadata": {
  "kernelspec": {
   "display_name": "Python [conda env:base] *",
   "language": "python",
   "name": "conda-base-py"
  },
  "language_info": {
   "codemirror_mode": {
    "name": "ipython",
    "version": 3
   },
   "file_extension": ".py",
   "mimetype": "text/x-python",
   "name": "python",
   "nbconvert_exporter": "python",
   "pygments_lexer": "ipython3",
   "version": "3.12.7"
  }
 },
 "nbformat": 4,
 "nbformat_minor": 5
}
