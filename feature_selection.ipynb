{
 "cells": [
  {
   "cell_type": "markdown",
   "id": "85bf1a72",
   "metadata": {},
   "source": [
    "**Comparing Feature Selection for Multi-Layer Perceptron (NN)**\n",
    "\n",
    "- Price features only\n",
    "- Aggregated sentiment only\n",
    "- Price + sentiment features"
   ]
  },
  {
   "cell_type": "code",
   "execution_count": 31,
   "id": "7c5c9e70",
   "metadata": {},
   "outputs": [
    {
     "name": "stdout",
     "output_type": "stream",
     "text": [
      "\n",
      "=== Price-only MLP ===\n",
      "Mean Accuracy over 10 runs: 0.6533\n",
      "Std Dev: 0.0285\n",
      "\n",
      "=== Sentiment-only MLP ===\n",
      "Mean Accuracy over 10 runs: 0.5598\n",
      "Std Dev: 0.0327\n",
      "\n",
      "=== Price+Sentiment MLP ===\n",
      "Mean Accuracy over 10 runs: 0.6543\n",
      "Std Dev: 0.0187\n",
      "\n",
      "=== Price + Technical Indicators ===\n",
      "Mean Accuracy over 10 runs: 0.6511\n",
      "Std Dev: 0.0293\n"
     ]
    }
   ],
   "source": [
    "import pandas as pd\n",
    "import numpy as np\n",
    "from sklearn.neural_network import MLPClassifier\n",
    "from sklearn.preprocessing import StandardScaler\n",
    "from sklearn.metrics import accuracy_score, classification_report\n",
    "\n",
    "def generate_rolling_mlp_data(df, window_size=14, ticker='AAPL', features=['open', 'high', 'low', 'close', 'volume', 'sentiment']):\n",
    "    df = df[df['ticker'] == ticker].copy()\n",
    "    df = df.sort_values(by='date')\n",
    "    X, y = [], []\n",
    "\n",
    "    for i in range(window_size, len(df) - 1):\n",
    "        window = df.iloc[i - window_size:i]\n",
    "        next_day = df.iloc[i + 1]\n",
    "        flat_features = window[features].values.flatten()\n",
    "        X.append(flat_features)\n",
    "        y.append(next_day['label'])\n",
    "\n",
    "    return np.array(X), np.array(y)\n",
    "\n",
    "# Load dataset\n",
    "df = pd.read_csv(\"data/dataset.csv\", sep=\"\\t\")\n",
    "\n",
    "# Define feature sets\n",
    "feature_sets = {\n",
    "    \"Price-only MLP\": [\"open\", \"high\", \"low\", \"close\", \"volume\"],\n",
    "    \"Sentiment-only MLP\": [\"sentiment\"],\n",
    "    \"Price+Sentiment MLP\": [\"open\", \"high\", \"low\", \"close\", \"volume\", \"sentiment\"],\n",
    "    \"Price + Technical Indicators\": [\"open\", \"high\", \"low\", \"close\", \"volume\", \"wma_close\",\t\"sma_close\", \"lag_1_close\", \"lag_7_close\", \"volatility\"]\n",
    "}\n",
    "\n",
    "# Number of randomized runs\n",
    "N_RUNS = 10\n",
    "\n",
    "for label, features in feature_sets.items():\n",
    "    accuracies = []\n",
    "\n",
    "    for run in range(N_RUNS):\n",
    "        X, y = generate_rolling_mlp_data(df, window_size=30, ticker='AAPL', features=features)\n",
    "\n",
    "        # Train/test split\n",
    "        split_idx = int(0.8 * len(X))\n",
    "        X_train, X_test = X[:split_idx], X[split_idx:]\n",
    "        y_train, y_test = y[:split_idx], y[split_idx:]\n",
    "\n",
    "\n",
    "        # Train model with different random seed\n",
    "        clf = MLPClassifier(hidden_layer_sizes=(64, 32), max_iter=1500, random_state=run)\n",
    "        clf.fit(X_train, y_train)\n",
    "        y_pred = clf.predict(X_test)\n",
    "\n",
    "        acc = accuracy_score(y_test, y_pred)\n",
    "        accuracies.append(acc)\n",
    "\n",
    "    # Summary stats\n",
    "    mean_acc = np.mean(accuracies)\n",
    "    std_acc = np.std(accuracies)\n",
    "\n",
    "    print(f\"\\n=== {label} ===\")\n",
    "    print(f\"Mean Accuracy over {N_RUNS} runs: {mean_acc:.4f}\")\n",
    "    print(f\"Std Dev: {std_acc:.4f}\")\n"
   ]
  }
 ],
 "metadata": {
  "kernelspec": {
   "display_name": ".venv",
   "language": "python",
   "name": "python3"
  },
  "language_info": {
   "codemirror_mode": {
    "name": "ipython",
    "version": 3
   },
   "file_extension": ".py",
   "mimetype": "text/x-python",
   "name": "python",
   "nbconvert_exporter": "python",
   "pygments_lexer": "ipython3",
   "version": "3.12.2"
  }
 },
 "nbformat": 4,
 "nbformat_minor": 5
}
